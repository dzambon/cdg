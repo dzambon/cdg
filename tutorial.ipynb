{
 "cells": [
  {
   "cell_type": "markdown",
   "metadata": {},
   "source": [
    "# Tutorial to the use of `cdg` \n",
    "\n",
    "[Daniele Zambon](https://dzambon.github.io) (`daniele.zambon@usi.ch`)  \n",
    "_Università della Svizzera italiana_     \n",
    "Last Update: 16/09/2019   \n",
    "\n",
    "## Install the package\n",
    "\n",
    "You can get it from [GitHub](https://github.com/dzambon/cdg)."
   ]
  },
  {
   "cell_type": "code",
   "execution_count": 1,
   "metadata": {},
   "outputs": [
    {
     "name": "stdout",
     "output_type": "stream",
     "text": [
      "notebook prepared with cdg version: 2.1\n"
     ]
    }
   ],
   "source": [
    "import cdg\n",
    "print(\"notebook prepared with cdg version:\", cdg.__version__)"
   ]
  },
  {
   "cell_type": "markdown",
   "metadata": {},
   "source": [
    "## Demo"
   ]
  },
  {
   "cell_type": "code",
   "execution_count": 5,
   "metadata": {},
   "outputs": [
    {
     "name": "stdout",
     "output_type": "stream",
     "text": [
      "OrderedDict([(0, [<cdg.graph.graph.Graph object at 0x7f69b37ac9d0>, <cdg.graph.graph.Graph object at 0x7f69b359bca0>, <cdg.graph.graph.Graph object at 0x7f69b2da8df0>, <cdg.graph.graph.Graph object at 0x7f69b2da85e0>, <cdg.graph.graph.Graph object at 0x7f69b2da88e0>, <cdg.graph.graph.Graph object at 0x7f69b2da8160>, <cdg.graph.graph.Graph object at 0x7f69b2da8c10>, <cdg.graph.graph.Graph object at 0x7f69b2da8550>, <cdg.graph.graph.Graph object at 0x7f69b2db9f10>, <cdg.graph.graph.Graph object at 0x7f69b2db9f40>, <cdg.graph.graph.Graph object at 0x7f69b2db7e80>, <cdg.graph.graph.Graph object at 0x7f69b2db7d90>, <cdg.graph.graph.Graph object at 0x7f69b2db7d00>, <cdg.graph.graph.Graph object at 0x7f69b2db7730>, <cdg.graph.graph.Graph object at 0x7f69b2db7a60>, <cdg.graph.graph.Graph object at 0x7f69b2db70d0>, <cdg.graph.graph.Graph object at 0x7f69b2db7340>, <cdg.graph.graph.Graph object at 0x7f69b2db72e0>, <cdg.graph.graph.Graph object at 0x7f69b2db7ca0>, <cdg.graph.graph.Graph object at 0x7f69b2db7820>, <cdg.graph.graph.Graph object at 0x7f69b2db7850>, <cdg.graph.graph.Graph object at 0x7f69b2db7130>, <cdg.graph.graph.Graph object at 0x7f69b2db7a00>, <cdg.graph.graph.Graph object at 0x7f69b2db7ac0>, <cdg.graph.graph.Graph object at 0x7f69b2db73d0>, <cdg.graph.graph.Graph object at 0x7f69b2db74c0>, <cdg.graph.graph.Graph object at 0x7f69b2db79d0>, <cdg.graph.graph.Graph object at 0x7f69b2db7640>, <cdg.graph.graph.Graph object at 0x7f69b2db71c0>, <cdg.graph.graph.Graph object at 0x7f69b2db78b0>, <cdg.graph.graph.Graph object at 0x7f69b2db7c10>, <cdg.graph.graph.Graph object at 0x7f69b2db7dc0>, <cdg.graph.graph.Graph object at 0x7f69b2db7e50>, <cdg.graph.graph.Graph object at 0x7f69b2db75b0>, <cdg.graph.graph.Graph object at 0x7f69b2db7280>, <cdg.graph.graph.Graph object at 0x7f69b2db7910>, <cdg.graph.graph.Graph object at 0x7f69b2db76a0>, <cdg.graph.graph.Graph object at 0x7f69b2db7d60>, <cdg.graph.graph.Graph object at 0x7f69b2db70a0>, <cdg.graph.graph.Graph object at 0x7f69b2db7bb0>, <cdg.graph.graph.Graph object at 0x7f69b2db7760>, <cdg.graph.graph.Graph object at 0x7f69b2db7310>, <cdg.graph.graph.Graph object at 0x7f69b35ba6a0>, <cdg.graph.graph.Graph object at 0x7f69b35ba9d0>, <cdg.graph.graph.Graph object at 0x7f69b35babe0>, <cdg.graph.graph.Graph object at 0x7f69b35badc0>, <cdg.graph.graph.Graph object at 0x7f69b35baaf0>, <cdg.graph.graph.Graph object at 0x7f69b35baa30>, <cdg.graph.graph.Graph object at 0x7f69b35bad00>, <cdg.graph.graph.Graph object at 0x7f69b35ba850>, <cdg.graph.graph.Graph object at 0x7f69b35ba970>, <cdg.graph.graph.Graph object at 0x7f69b35baca0>, <cdg.graph.graph.Graph object at 0x7f69b35ba730>, <cdg.graph.graph.Graph object at 0x7f69b35ba5e0>, <cdg.graph.graph.Graph object at 0x7f69b35ba190>, <cdg.graph.graph.Graph object at 0x7f69b35bac40>, <cdg.graph.graph.Graph object at 0x7f69b35bae20>, <cdg.graph.graph.Graph object at 0x7f69b35ba070>, <cdg.graph.graph.Graph object at 0x7f69b35ba3d0>, <cdg.graph.graph.Graph object at 0x7f69b35ba370>, <cdg.graph.graph.Graph object at 0x7f69b35ba880>, <cdg.graph.graph.Graph object at 0x7f69b35bab80>, <cdg.graph.graph.Graph object at 0x7f69b35bae50>, <cdg.graph.graph.Graph object at 0x7f69b35bae80>, <cdg.graph.graph.Graph object at 0x7f69b35ba580>, <cdg.graph.graph.Graph object at 0x7f69b35baf70>, <cdg.graph.graph.Graph object at 0x7f69b35ba940>, <cdg.graph.graph.Graph object at 0x7f69b35baee0>, <cdg.graph.graph.Graph object at 0x7f69b35bad60>, <cdg.graph.graph.Graph object at 0x7f69b35baf10>, <cdg.graph.graph.Graph object at 0x7f69b33e8eb0>, <cdg.graph.graph.Graph object at 0x7f69b33e83d0>, <cdg.graph.graph.Graph object at 0x7f69b33e8910>, <cdg.graph.graph.Graph object at 0x7f69b33e81f0>, <cdg.graph.graph.Graph object at 0x7f69b33e8a60>, <cdg.graph.graph.Graph object at 0x7f69b33e8880>, <cdg.graph.graph.Graph object at 0x7f69b33e89d0>, <cdg.graph.graph.Graph object at 0x7f69b33e8d30>, <cdg.graph.graph.Graph object at 0x7f69b33e8490>, <cdg.graph.graph.Graph object at 0x7f69b33e8ca0>, <cdg.graph.graph.Graph object at 0x7f69b33e88e0>, <cdg.graph.graph.Graph object at 0x7f69b33e8820>, <cdg.graph.graph.Graph object at 0x7f69b33e80d0>, <cdg.graph.graph.Graph object at 0x7f69b33e8970>, <cdg.graph.graph.Graph object at 0x7f69b33e8790>, <cdg.graph.graph.Graph object at 0x7f69b33e8d00>, <cdg.graph.graph.Graph object at 0x7f69b33e8250>, <cdg.graph.graph.Graph object at 0x7f69b33e8280>, <cdg.graph.graph.Graph object at 0x7f69b33e8190>, <cdg.graph.graph.Graph object at 0x7f69b33e8e80>, <cdg.graph.graph.Graph object at 0x7f69b33e8670>, <cdg.graph.graph.Graph object at 0x7f69b33e8760>, <cdg.graph.graph.Graph object at 0x7f69b33e85e0>, <cdg.graph.graph.Graph object at 0x7f69b33e8580>, <cdg.graph.graph.Graph object at 0x7f69b33e8ac0>, <cdg.graph.graph.Graph object at 0x7f69b33e8430>, <cdg.graph.graph.Graph object at 0x7f69b33e8dc0>, <cdg.graph.graph.Graph object at 0x7f69b33e8040>, <cdg.graph.graph.Graph object at 0x7f69b3486d60>, <cdg.graph.graph.Graph object at 0x7f69b3486dc0>, <cdg.graph.graph.Graph object at 0x7f69b34861c0>, <cdg.graph.graph.Graph object at 0x7f69b3486b20>, <cdg.graph.graph.Graph object at 0x7f69b3486f70>, <cdg.graph.graph.Graph object at 0x7f69b3486160>, <cdg.graph.graph.Graph object at 0x7f69b34867c0>, <cdg.graph.graph.Graph object at 0x7f69b34863d0>, <cdg.graph.graph.Graph object at 0x7f69b34869a0>, <cdg.graph.graph.Graph object at 0x7f69b3486190>, <cdg.graph.graph.Graph object at 0x7f69b3486c70>, <cdg.graph.graph.Graph object at 0x7f69b34860a0>, <cdg.graph.graph.Graph object at 0x7f69b3486be0>, <cdg.graph.graph.Graph object at 0x7f69b3486730>, <cdg.graph.graph.Graph object at 0x7f69b3486940>, <cdg.graph.graph.Graph object at 0x7f69b34868b0>, <cdg.graph.graph.Graph object at 0x7f69b3486580>, <cdg.graph.graph.Graph object at 0x7f69b34862b0>, <cdg.graph.graph.Graph object at 0x7f69b34862e0>, <cdg.graph.graph.Graph object at 0x7f69b3486340>, <cdg.graph.graph.Graph object at 0x7f69b3486850>, <cdg.graph.graph.Graph object at 0x7f69b34860d0>, <cdg.graph.graph.Graph object at 0x7f69b3486370>, <cdg.graph.graph.Graph object at 0x7f69b3486280>, <cdg.graph.graph.Graph object at 0x7f69b3486a00>, <cdg.graph.graph.Graph object at 0x7f69b3486490>, <cdg.graph.graph.Graph object at 0x7f69b3486f10>, <cdg.graph.graph.Graph object at 0x7f69b3486820>, <cdg.graph.graph.Graph object at 0x7f69b34866a0>, <cdg.graph.graph.Graph object at 0x7f69b34868e0>, <cdg.graph.graph.Graph object at 0x7f69b3486ca0>, <cdg.graph.graph.Graph object at 0x7f69b3486640>, <cdg.graph.graph.Graph object at 0x7f69b3486970>, <cdg.graph.graph.Graph object at 0x7f69b3486880>, <cdg.graph.graph.Graph object at 0x7f69b3486c10>, <cdg.graph.graph.Graph object at 0x7f69b3486cd0>, <cdg.graph.graph.Graph object at 0x7f69b3486af0>, <cdg.graph.graph.Graph object at 0x7f69b3486220>, <cdg.graph.graph.Graph object at 0x7f69b3486e50>, <cdg.graph.graph.Graph object at 0x7f69b3486a30>, <cdg.graph.graph.Graph object at 0x7f69b34869d0>, <cdg.graph.graph.Graph object at 0x7f69b3486250>, <cdg.graph.graph.Graph object at 0x7f69b3486910>, <cdg.graph.graph.Graph object at 0x7f69b34867f0>, <cdg.graph.graph.Graph object at 0x7f69b3486550>, <cdg.graph.graph.Graph object at 0x7f69b34865e0>, <cdg.graph.graph.Graph object at 0x7f69b34861f0>, <cdg.graph.graph.Graph object at 0x7f69b3486c40>, <cdg.graph.graph.Graph object at 0x7f69b3486a90>, <cdg.graph.graph.Graph object at 0x7f69b3486df0>, <cdg.graph.graph.Graph object at 0x7f69b3486a60>, <cdg.graph.graph.Graph object at 0x7f69b3486ac0>, <cdg.graph.graph.Graph object at 0x7f69b3486070>, <cdg.graph.graph.Graph object at 0x7f69b3486040>, <cdg.graph.graph.Graph object at 0x7f69b3486460>, <cdg.graph.graph.Graph object at 0x7f69b3486b80>, <cdg.graph.graph.Graph object at 0x7f69b3486d30>, <cdg.graph.graph.Graph object at 0x7f69b3486790>, <cdg.graph.graph.Graph object at 0x7f69b34866d0>, <cdg.graph.graph.Graph object at 0x7f69b34863a0>, <cdg.graph.graph.Graph object at 0x7f69b3486b50>, <cdg.graph.graph.Graph object at 0x7f69b34a2af0>, <cdg.graph.graph.Graph object at 0x7f69b34a2cd0>, <cdg.graph.graph.Graph object at 0x7f69b34a2490>, <cdg.graph.graph.Graph object at 0x7f69b34a2d90>, <cdg.graph.graph.Graph object at 0x7f69b34a2b20>, <cdg.graph.graph.Graph object at 0x7f69b34a21f0>, <cdg.graph.graph.Graph object at 0x7f69b34a2430>, <cdg.graph.graph.Graph object at 0x7f69b34a2c70>, <cdg.graph.graph.Graph object at 0x7f69b34a29d0>, <cdg.graph.graph.Graph object at 0x7f69b34a28b0>, <cdg.graph.graph.Graph object at 0x7f69b34a2340>, <cdg.graph.graph.Graph object at 0x7f69b34a2e50>, <cdg.graph.graph.Graph object at 0x7f69b34a2730>, <cdg.graph.graph.Graph object at 0x7f69b34a21c0>, <cdg.graph.graph.Graph object at 0x7f69b34a2700>, <cdg.graph.graph.Graph object at 0x7f69b34a25b0>, <cdg.graph.graph.Graph object at 0x7f69b34a29a0>, <cdg.graph.graph.Graph object at 0x7f69b34a2280>, <cdg.graph.graph.Graph object at 0x7f69b34a2fd0>, <cdg.graph.graph.Graph object at 0x7f69b34a22e0>, <cdg.graph.graph.Graph object at 0x7f69b34a2370>, <cdg.graph.graph.Graph object at 0x7f69b34a2220>, <cdg.graph.graph.Graph object at 0x7f69b34a2400>, <cdg.graph.graph.Graph object at 0x7f69b34a2eb0>, <cdg.graph.graph.Graph object at 0x7f69b34a2310>, <cdg.graph.graph.Graph object at 0x7f69b34a2c40>, <cdg.graph.graph.Graph object at 0x7f69b34a2520>, <cdg.graph.graph.Graph object at 0x7f69b34a2640>, <cdg.graph.graph.Graph object at 0x7f69b34a2820>, <cdg.graph.graph.Graph object at 0x7f69b34a26d0>, <cdg.graph.graph.Graph object at 0x7f69b34a20a0>, <cdg.graph.graph.Graph object at 0x7f69b34a2460>, <cdg.graph.graph.Graph object at 0x7f69b34a2040>, <cdg.graph.graph.Graph object at 0x7f69b34a2160>, <cdg.graph.graph.Graph object at 0x7f69b34a2d60>, <cdg.graph.graph.Graph object at 0x7f69b34a2850>, <cdg.graph.graph.Graph object at 0x7f69b34a2a60>, <cdg.graph.graph.Graph object at 0x7f69b34a5b80>, <cdg.graph.graph.Graph object at 0x7f69b34a5820>, <cdg.graph.graph.Graph object at 0x7f69b34a5d00>, <cdg.graph.graph.Graph object at 0x7f69b34a58b0>, <cdg.graph.graph.Graph object at 0x7f69b34a5160>, <cdg.graph.graph.Graph object at 0x7f69b34a5a00>, <cdg.graph.graph.Graph object at 0x7f69b34a54c0>, <cdg.graph.graph.Graph object at 0x7f69b34a5100>, <cdg.graph.graph.Graph object at 0x7f69b34a5130>, <cdg.graph.graph.Graph object at 0x7f69b34a5af0>, <cdg.graph.graph.Graph object at 0x7f69b34a5340>, <cdg.graph.graph.Graph object at 0x7f69b34a53a0>, <cdg.graph.graph.Graph object at 0x7f69b34a5c70>, <cdg.graph.graph.Graph object at 0x7f69b34a5b50>, <cdg.graph.graph.Graph object at 0x7f69b34a5bb0>, <cdg.graph.graph.Graph object at 0x7f69b34a53d0>, <cdg.graph.graph.Graph object at 0x7f69b34a5f10>, <cdg.graph.graph.Graph object at 0x7f69b34a52b0>, <cdg.graph.graph.Graph object at 0x7f69b34a5a30>, <cdg.graph.graph.Graph object at 0x7f69b34a5250>, <cdg.graph.graph.Graph object at 0x7f69b34a5d90>, <cdg.graph.graph.Graph object at 0x7f69b34a5a60>, <cdg.graph.graph.Graph object at 0x7f69b34a5460>, <cdg.graph.graph.Graph object at 0x7f69b34a5e20>, <cdg.graph.graph.Graph object at 0x7f69b34a51c0>, <cdg.graph.graph.Graph object at 0x7f69b34a59d0>, <cdg.graph.graph.Graph object at 0x7f69b34a5eb0>, <cdg.graph.graph.Graph object at 0x7f69b34a5940>, <cdg.graph.graph.Graph object at 0x7f69b34a5e80>, <cdg.graph.graph.Graph object at 0x7f69b34a51f0>, <cdg.graph.graph.Graph object at 0x7f69b34a5fa0>, <cdg.graph.graph.Graph object at 0x7f69b34a5d60>, <cdg.graph.graph.Graph object at 0x7f69b34a5640>, <cdg.graph.graph.Graph object at 0x7f69b34a5670>, <cdg.graph.graph.Graph object at 0x7f69b34a5cd0>, <cdg.graph.graph.Graph object at 0x7f69b34a5850>, <cdg.graph.graph.Graph object at 0x7f69b34a50d0>, <cdg.graph.graph.Graph object at 0x7f69b34a5400>, <cdg.graph.graph.Graph object at 0x7f69b34a5370>, <cdg.graph.graph.Graph object at 0x7f69b34a5d30>, <cdg.graph.graph.Graph object at 0x7f69b34a5970>, <cdg.graph.graph.Graph object at 0x7f69b34a52e0>, <cdg.graph.graph.Graph object at 0x7f69b34a5040>, <cdg.graph.graph.Graph object at 0x7f69b34a55e0>, <cdg.graph.graph.Graph object at 0x7f69b376caf0>, <cdg.graph.graph.Graph object at 0x7f69b376cbe0>, <cdg.graph.graph.Graph object at 0x7f69b376cb20>, <cdg.graph.graph.Graph object at 0x7f69b376cb80>, <cdg.graph.graph.Graph object at 0x7f69b376cbb0>, <cdg.graph.graph.Graph object at 0x7f69b34c20a0>, <cdg.graph.graph.Graph object at 0x7f69b34c2490>, <cdg.graph.graph.Graph object at 0x7f69b34c2af0>, <cdg.graph.graph.Graph object at 0x7f69b34c2040>, <cdg.graph.graph.Graph object at 0x7f69b34c29a0>, <cdg.graph.graph.Graph object at 0x7f69b34c2640>, <cdg.graph.graph.Graph object at 0x7f69b34c2220>, <cdg.graph.graph.Graph object at 0x7f69b34c2f10>, <cdg.graph.graph.Graph object at 0x7f69b34c2700>, <cdg.graph.graph.Graph object at 0x7f69b34c2790>, <cdg.graph.graph.Graph object at 0x7f69b34c27c0>, <cdg.graph.graph.Graph object at 0x7f69b34c25b0>, <cdg.graph.graph.Graph object at 0x7f69b34c2cd0>, <cdg.graph.graph.Graph object at 0x7f69b34c2340>, <cdg.graph.graph.Graph object at 0x7f69b34c23d0>, <cdg.graph.graph.Graph object at 0x7f69b34c2130>, <cdg.graph.graph.Graph object at 0x7f69b34c2670>, <cdg.graph.graph.Graph object at 0x7f69b34c24c0>, <cdg.graph.graph.Graph object at 0x7f69b34c26d0>, <cdg.graph.graph.Graph object at 0x7f69b34c2e50>, <cdg.graph.graph.Graph object at 0x7f69b34c2820>, <cdg.graph.graph.Graph object at 0x7f69b34c2970>, <cdg.graph.graph.Graph object at 0x7f69b34c2be0>, <cdg.graph.graph.Graph object at 0x7f69b34c2e20>, <cdg.graph.graph.Graph object at 0x7f69b34c2f70>, <cdg.graph.graph.Graph object at 0x7f69b34c2610>, <cdg.graph.graph.Graph object at 0x7f69b34c2250>, <cdg.graph.graph.Graph object at 0x7f69b34c2ac0>, <cdg.graph.graph.Graph object at 0x7f69b34c2b50>, <cdg.graph.graph.Graph object at 0x7f69b34c26a0>, <cdg.graph.graph.Graph object at 0x7f69b34c2f40>, <cdg.graph.graph.Graph object at 0x7f69b34c2fd0>, <cdg.graph.graph.Graph object at 0x7f69b34c2fa0>, <cdg.graph.graph.Graph object at 0x7f69b34c2a00>, <cdg.graph.graph.Graph object at 0x7f69b34c2880>, <cdg.graph.graph.Graph object at 0x7f69b34c2580>, <cdg.graph.graph.Graph object at 0x7f69b34c2ee0>, <cdg.graph.graph.Graph object at 0x7f69b34c2bb0>, <cdg.graph.graph.Graph object at 0x7f69b34c2a90>, <cdg.graph.graph.Graph object at 0x7f69b34c2eb0>, <cdg.graph.graph.Graph object at 0x7f69b34c2e80>, <cdg.graph.graph.Graph object at 0x7f69b34c2910>, <cdg.graph.graph.Graph object at 0x7f69b34c2730>, <cdg.graph.graph.Graph object at 0x7f69b34c2190>, <cdg.graph.graph.Graph object at 0x7f69b34c27f0>, <cdg.graph.graph.Graph object at 0x7f69b34c28b0>, <cdg.graph.graph.Graph object at 0x7f69b34c2100>, <cdg.graph.graph.Graph object at 0x7f69b34c2280>, <cdg.graph.graph.Graph object at 0x7f69b34c22e0>, <cdg.graph.graph.Graph object at 0x7f69b34c2a30>, <cdg.graph.graph.Graph object at 0x7f69b34c2d00>, <cdg.graph.graph.Graph object at 0x7f69b34c2310>, <cdg.graph.graph.Graph object at 0x7f69b34c2c70>, <cdg.graph.graph.Graph object at 0x7f69b34c2c40>, <cdg.graph.graph.Graph object at 0x7f69b34c21f0>, <cdg.graph.graph.Graph object at 0x7f69b34c2a60>, <cdg.graph.graph.Graph object at 0x7f69b34c2850>, <cdg.graph.graph.Graph object at 0x7f69b34c2b80>, <cdg.graph.graph.Graph object at 0x7f69b34c21c0>, <cdg.graph.graph.Graph object at 0x7f69b34c2760>, <cdg.graph.graph.Graph object at 0x7f69b34c2430>, <cdg.graph.graph.Graph object at 0x7f69b32500d0>, <cdg.graph.graph.Graph object at 0x7f69b3250520>, <cdg.graph.graph.Graph object at 0x7f69b3250670>, <cdg.graph.graph.Graph object at 0x7f69b3250130>, <cdg.graph.graph.Graph object at 0x7f69b32503d0>, <cdg.graph.graph.Graph object at 0x7f69b32500a0>, <cdg.graph.graph.Graph object at 0x7f69b3250070>, <cdg.graph.graph.Graph object at 0x7f69b2db9430>, <cdg.graph.graph.Graph object at 0x7f69b3250b20>, <cdg.graph.graph.Graph object at 0x7f69b3250280>, <cdg.graph.graph.Graph object at 0x7f69b3250760>, <cdg.graph.graph.Graph object at 0x7f69b32505e0>, <cdg.graph.graph.Graph object at 0x7f69b3250730>, <cdg.graph.graph.Graph object at 0x7f69b3250e50>, <cdg.graph.graph.Graph object at 0x7f69b3250790>, <cdg.graph.graph.Graph object at 0x7f69b3250f70>, <cdg.graph.graph.Graph object at 0x7f69b3250ca0>, <cdg.graph.graph.Graph object at 0x7f69b3250bb0>, <cdg.graph.graph.Graph object at 0x7f69b3250190>, <cdg.graph.graph.Graph object at 0x7f69b3250cd0>, <cdg.graph.graph.Graph object at 0x7f69b3250d30>, <cdg.graph.graph.Graph object at 0x7f69b32507c0>, <cdg.graph.graph.Graph object at 0x7f69b3250220>, <cdg.graph.graph.Graph object at 0x7f69b3250b80>, <cdg.graph.graph.Graph object at 0x7f69b3250c70>, <cdg.graph.graph.Graph object at 0x7f69b3250a30>, <cdg.graph.graph.Graph object at 0x7f69b3250550>, <cdg.graph.graph.Graph object at 0x7f69b32501c0>, <cdg.graph.graph.Graph object at 0x7f69b3250700>, <cdg.graph.graph.Graph object at 0x7f69b3250880>, <cdg.graph.graph.Graph object at 0x7f69b3250970>, <cdg.graph.graph.Graph object at 0x7f69b3250310>, <cdg.graph.graph.Graph object at 0x7f69b3250100>, <cdg.graph.graph.Graph object at 0x7f69b3250160>, <cdg.graph.graph.Graph object at 0x7f69b3250340>, <cdg.graph.graph.Graph object at 0x7f69b32502e0>, <cdg.graph.graph.Graph object at 0x7f69b3250370>, <cdg.graph.graph.Graph object at 0x7f69b32506a0>, <cdg.graph.graph.Graph object at 0x7f69b32502b0>, <cdg.graph.graph.Graph object at 0x7f69b3250460>, <cdg.graph.graph.Graph object at 0x7f69b3250c40>, <cdg.graph.graph.Graph object at 0x7f69b32506d0>, <cdg.graph.graph.Graph object at 0x7f69b32505b0>, <cdg.graph.graph.Graph object at 0x7f69b3250040>, <cdg.graph.graph.Graph object at 0x7f69b32501f0>, <cdg.graph.graph.Graph object at 0x7f69b32503a0>, <cdg.graph.graph.Graph object at 0x7f69b32504f0>, <cdg.graph.graph.Graph object at 0x7f69b3250fa0>, <cdg.graph.graph.Graph object at 0x7f69b3250fd0>, <cdg.graph.graph.Graph object at 0x7f69b3250f10>, <cdg.graph.graph.Graph object at 0x7f69b3250f40>, <cdg.graph.graph.Graph object at 0x7f69b3250e80>, <cdg.graph.graph.Graph object at 0x7f69b3250ee0>, <cdg.graph.graph.Graph object at 0x7f69b3250df0>, <cdg.graph.graph.Graph object at 0x7f69b3250eb0>, <cdg.graph.graph.Graph object at 0x7f69b3250d90>, <cdg.graph.graph.Graph object at 0x7f69b3250dc0>, <cdg.graph.graph.Graph object at 0x7f69b32509a0>, <cdg.graph.graph.Graph object at 0x7f69b3250af0>, <cdg.graph.graph.Graph object at 0x7f69b3250820>, <cdg.graph.graph.Graph object at 0x7f69b3250910>, <cdg.graph.graph.Graph object at 0x7f69b3250850>, <cdg.graph.graph.Graph object at 0x7f69b32507f0>, <cdg.graph.graph.Graph object at 0x7f69b32504c0>, <cdg.graph.graph.Graph object at 0x7f69b3250490>, <cdg.graph.graph.Graph object at 0x7f69b3250e20>, <cdg.graph.graph.Graph object at 0x7f69b3250d60>, <cdg.graph.graph.Graph object at 0x7f69b3250a00>, <cdg.graph.graph.Graph object at 0x7f69b3250b50>, <cdg.graph.graph.Graph object at 0x7f69b32509d0>, <cdg.graph.graph.Graph object at 0x7f69b3250c10>, <cdg.graph.graph.Graph object at 0x7f69b32508b0>, <cdg.graph.graph.Graph object at 0x7f69b3250940>, <cdg.graph.graph.Graph object at 0x7f69b32508e0>, <cdg.graph.graph.Graph object at 0x7f69b3250430>, <cdg.graph.graph.Graph object at 0x7f69b3250400>, <cdg.graph.graph.Graph object at 0x7f69b3250ac0>, <cdg.graph.graph.Graph object at 0x7f69b3250a90>, <cdg.graph.graph.Graph object at 0x7f69b377f310>, <cdg.graph.graph.Graph object at 0x7f69b377f160>, <cdg.graph.graph.Graph object at 0x7f69b377f1f0>, <cdg.graph.graph.Graph object at 0x7f69b377f3a0>, <cdg.graph.graph.Graph object at 0x7f69b377f640>, <cdg.graph.graph.Graph object at 0x7f69b377fb80>, <cdg.graph.graph.Graph object at 0x7f69b377fdc0>, <cdg.graph.graph.Graph object at 0x7f69b377f550>, <cdg.graph.graph.Graph object at 0x7f69b377f4c0>, <cdg.graph.graph.Graph object at 0x7f69b377f490>, <cdg.graph.graph.Graph object at 0x7f69b377f520>, <cdg.graph.graph.Graph object at 0x7f69b377fd30>, <cdg.graph.graph.Graph object at 0x7f69b377ff40>, <cdg.graph.graph.Graph object at 0x7f69b377f820>, <cdg.graph.graph.Graph object at 0x7f69b377fa90>, <cdg.graph.graph.Graph object at 0x7f69b377f7f0>, <cdg.graph.graph.Graph object at 0x7f69b377f8e0>, <cdg.graph.graph.Graph object at 0x7f69b377f6d0>, <cdg.graph.graph.Graph object at 0x7f69b377f580>, <cdg.graph.graph.Graph object at 0x7f69b377f760>, <cdg.graph.graph.Graph object at 0x7f69b377f460>, <cdg.graph.graph.Graph object at 0x7f69b377f5e0>, <cdg.graph.graph.Graph object at 0x7f69b377fe80>, <cdg.graph.graph.Graph object at 0x7f69b377f040>, <cdg.graph.graph.Graph object at 0x7f69b377f2b0>, <cdg.graph.graph.Graph object at 0x7f69b377f370>, <cdg.graph.graph.Graph object at 0x7f69b377f0a0>, <cdg.graph.graph.Graph object at 0x7f69b377f070>, <cdg.graph.graph.Graph object at 0x7f69b377f0d0>, <cdg.graph.graph.Graph object at 0x7f69b377fc10>, <cdg.graph.graph.Graph object at 0x7f69b377feb0>, <cdg.graph.graph.Graph object at 0x7f69b377fee0>, <cdg.graph.graph.Graph object at 0x7f69b377fdf0>, <cdg.graph.graph.Graph object at 0x7f69b377fe20>, <cdg.graph.graph.Graph object at 0x7f69b377fd60>, <cdg.graph.graph.Graph object at 0x7f69b377fd90>, <cdg.graph.graph.Graph object at 0x7f69b377fcd0>, <cdg.graph.graph.Graph object at 0x7f69b377fd00>, <cdg.graph.graph.Graph object at 0x7f69b377fbe0>, <cdg.graph.graph.Graph object at 0x7f69b377fca0>, <cdg.graph.graph.Graph object at 0x7f69b377fb50>, <cdg.graph.graph.Graph object at 0x7f69b377fc70>, <cdg.graph.graph.Graph object at 0x7f69b377fa60>, <cdg.graph.graph.Graph object at 0x7f69b377fac0>, <cdg.graph.graph.Graph object at 0x7f69b377f880>, <cdg.graph.graph.Graph object at 0x7f69b377f970>, <cdg.graph.graph.Graph object at 0x7f69b377f8b0>, <cdg.graph.graph.Graph object at 0x7f69b377f850>, <cdg.graph.graph.Graph object at 0x7f69b377f730>, <cdg.graph.graph.Graph object at 0x7f69b377f700>, <cdg.graph.graph.Graph object at 0x7f69b377fe50>, <cdg.graph.graph.Graph object at 0x7f69b377f610>, <cdg.graph.graph.Graph object at 0x7f69b377ff70>, <cdg.graph.graph.Graph object at 0x7f69b377ffa0>, <cdg.graph.graph.Graph object at 0x7f69b377fa00>, <cdg.graph.graph.Graph object at 0x7f69b377fbb0>, <cdg.graph.graph.Graph object at 0x7f69b377fa30>, <cdg.graph.graph.Graph object at 0x7f69b377fc40>, <cdg.graph.graph.Graph object at 0x7f69b377f910>, <cdg.graph.graph.Graph object at 0x7f69b377f9a0>, <cdg.graph.graph.Graph object at 0x7f69b377f940>, <cdg.graph.graph.Graph object at 0x7f69b377f6a0>, <cdg.graph.graph.Graph object at 0x7f69b377f670>, <cdg.graph.graph.Graph object at 0x7f69b377ffd0>, <cdg.graph.graph.Graph object at 0x7f69b377ff10>, <cdg.graph.graph.Graph object at 0x7f69b377fb20>, <cdg.graph.graph.Graph object at 0x7f69b377faf0>, <cdg.graph.graph.Graph object at 0x7f69b2d80b80>, <cdg.graph.graph.Graph object at 0x7f69b2d80850>, <cdg.graph.graph.Graph object at 0x7f69b2d809a0>, <cdg.graph.graph.Graph object at 0x7f69b2d803a0>, <cdg.graph.graph.Graph object at 0x7f69b2d80520>, <cdg.graph.graph.Graph object at 0x7f69b2d804f0>, <cdg.graph.graph.Graph object at 0x7f69b2d80250>, <cdg.graph.graph.Graph object at 0x7f69b2d801c0>, <cdg.graph.graph.Graph object at 0x7f69b2d80df0>, <cdg.graph.graph.Graph object at 0x7f69b2d80070>, <cdg.graph.graph.Graph object at 0x7f69b2d80040>, <cdg.graph.graph.Graph object at 0x7f69b2d808b0>, <cdg.graph.graph.Graph object at 0x7f69b2d80820>, <cdg.graph.graph.Graph object at 0x7f69b2d808e0>, <cdg.graph.graph.Graph object at 0x7f69b2d800d0>, <cdg.graph.graph.Graph object at 0x7f69b2d80a90>, <cdg.graph.graph.Graph object at 0x7f69b2d80fa0>, <cdg.graph.graph.Graph object at 0x7f69b2d80220>, <cdg.graph.graph.Graph object at 0x7f69b2d800a0>, <cdg.graph.graph.Graph object at 0x7f69b2d80940>, <cdg.graph.graph.Graph object at 0x7f69b2d809d0>, <cdg.graph.graph.Graph object at 0x7f69b2d80a60>, <cdg.graph.graph.Graph object at 0x7f69b2d80c40>, <cdg.graph.graph.Graph object at 0x7f69b2d80310>, <cdg.graph.graph.Graph object at 0x7f69b2d80e50>, <cdg.graph.graph.Graph object at 0x7f69b2d80cd0>, <cdg.graph.graph.Graph object at 0x7f69b2d80e80>, <cdg.graph.graph.Graph object at 0x7f69b2d80b50>, <cdg.graph.graph.Graph object at 0x7f69b2d80400>, <cdg.graph.graph.Graph object at 0x7f69b2d80c10>, <cdg.graph.graph.Graph object at 0x7f69b35a3610>, <cdg.graph.graph.Graph object at 0x7f69b377b1f0>, <cdg.graph.graph.Graph object at 0x7f69b377b970>, <cdg.graph.graph.Graph object at 0x7f69b377bc10>, <cdg.graph.graph.Graph object at 0x7f69b377b2b0>, <cdg.graph.graph.Graph object at 0x7f69b377bf70>, <cdg.graph.graph.Graph object at 0x7f69b377b8b0>, <cdg.graph.graph.Graph object at 0x7f69b377b070>, <cdg.graph.graph.Graph object at 0x7f69b377b820>, <cdg.graph.graph.Graph object at 0x7f69b377b3d0>, <cdg.graph.graph.Graph object at 0x7f69b377bd00>, <cdg.graph.graph.Graph object at 0x7f69b377b730>, <cdg.graph.graph.Graph object at 0x7f69b377ba60>, <cdg.graph.graph.Graph object at 0x7f69b377b910>, <cdg.graph.graph.Graph object at 0x7f69b377ba30>, <cdg.graph.graph.Graph object at 0x7f69b377b9d0>, <cdg.graph.graph.Graph object at 0x7f69b377b850>, <cdg.graph.graph.Graph object at 0x7f69b377bee0>, <cdg.graph.graph.Graph object at 0x7f69b377bf10>]), (8, [<cdg.graph.graph.Graph object at 0x7f69b359bd90>, <cdg.graph.graph.Graph object at 0x7f69b377b7c0>, <cdg.graph.graph.Graph object at 0x7f69b377b310>, <cdg.graph.graph.Graph object at 0x7f69b377b370>, <cdg.graph.graph.Graph object at 0x7f69b377b2e0>, <cdg.graph.graph.Graph object at 0x7f69b377bc40>, <cdg.graph.graph.Graph object at 0x7f69b377bd90>, <cdg.graph.graph.Graph object at 0x7f69b377b040>, <cdg.graph.graph.Graph object at 0x7f69b377bac0>, <cdg.graph.graph.Graph object at 0x7f69b377bbb0>, <cdg.graph.graph.Graph object at 0x7f69b377baf0>, <cdg.graph.graph.Graph object at 0x7f69b377ba90>, <cdg.graph.graph.Graph object at 0x7f69b377b5b0>, <cdg.graph.graph.Graph object at 0x7f69b377b5e0>, <cdg.graph.graph.Graph object at 0x7f69b377b460>, <cdg.graph.graph.Graph object at 0x7f69b377b520>, <cdg.graph.graph.Graph object at 0x7f69b377b430>, <cdg.graph.graph.Graph object at 0x7f69b377b490>, <cdg.graph.graph.Graph object at 0x7f69b377bfd0>, <cdg.graph.graph.Graph object at 0x7f69b377bfa0>, <cdg.graph.graph.Graph object at 0x7f69b377bc70>, <cdg.graph.graph.Graph object at 0x7f69b377beb0>, <cdg.graph.graph.Graph object at 0x7f69b377bb50>, <cdg.graph.graph.Graph object at 0x7f69b377bbe0>, <cdg.graph.graph.Graph object at 0x7f69b377bb80>, <cdg.graph.graph.Graph object at 0x7f69b377b6a0>, <cdg.graph.graph.Graph object at 0x7f69b377b8e0>, <cdg.graph.graph.Graph object at 0x7f69b377b580>, <cdg.graph.graph.Graph object at 0x7f69b377b610>, <cdg.graph.graph.Graph object at 0x7f69b377b4f0>, <cdg.graph.graph.Graph object at 0x7f69b377b0d0>, <cdg.graph.graph.Graph object at 0x7f69b377be20>, <cdg.graph.graph.Graph object at 0x7f69b377b190>, <cdg.graph.graph.Graph object at 0x7f69b377b7f0>, <cdg.graph.graph.Graph object at 0x7f69b377bdc0>, <cdg.graph.graph.Graph object at 0x7f69b377b640>, <cdg.graph.graph.Graph object at 0x7f69b377bf40>, <cdg.graph.graph.Graph object at 0x7f69b377b220>, <cdg.graph.graph.Graph object at 0x7f69b377b550>, <cdg.graph.graph.Graph object at 0x7f69b377b880>, <cdg.graph.graph.Graph object at 0x7f69b377b4c0>, <cdg.graph.graph.Graph object at 0x7f69b377bca0>, <cdg.graph.graph.Graph object at 0x7f69b377bdf0>, <cdg.graph.graph.Graph object at 0x7f69b377be50>, <cdg.graph.graph.Graph object at 0x7f69b377b700>, <cdg.graph.graph.Graph object at 0x7f69b377be80>, <cdg.graph.graph.Graph object at 0x7f69b377b9a0>, <cdg.graph.graph.Graph object at 0x7f69b377b940>, <cdg.graph.graph.Graph object at 0x7f69b377b280>, <cdg.graph.graph.Graph object at 0x7f69b377bd60>])])\n"
     ]
    }
   ],
   "source": [
    "# Generate synthetic graphs from a predefined model\n",
    "#   - 500 graphs from class 0\n",
    "#   - 50 graphs from class 8\n",
    "from cdg.graph import DelaunayGraphs, convert\n",
    "no_nodes = 5\n",
    "no_graphs = {0: 500, 8: 50}\n",
    "model = DelaunayGraphs()\n",
    "G = model.get(seed_points=no_nodes, classes=list(no_graphs.keys()),\n",
    "              no_graphs=no_graphs, sigma=.3, include_seed_graph=False)\n",
    "\n",
    "print(G)"
   ]
  },
  {
   "cell_type": "code",
   "execution_count": 6,
   "metadata": {},
   "outputs": [
    {
     "ename": "ModuleNotFoundError",
     "evalue": "No module named 'grakel'",
     "output_type": "error",
     "traceback": [
      "\u001b[0;31m---------------------------------------------------------------------------\u001b[0m",
      "\u001b[0;31mModuleNotFoundError\u001b[0m                       Traceback (most recent call last)",
      "\u001b[0;32m<ipython-input-6-5f91242ac2a2>\u001b[0m in \u001b[0;36m<module>\u001b[0;34m\u001b[0m\n\u001b[1;32m     12\u001b[0m \u001b[0;32mfrom\u001b[0m \u001b[0mcdg\u001b[0m\u001b[0;34m.\u001b[0m\u001b[0mgraph\u001b[0m\u001b[0;34m.\u001b[0m\u001b[0mdistance\u001b[0m \u001b[0;32mimport\u001b[0m \u001b[0mGraphEditDistanceNX\u001b[0m\u001b[0;34m\u001b[0m\u001b[0;34m\u001b[0m\u001b[0m\n\u001b[1;32m     13\u001b[0m \u001b[0mged\u001b[0m \u001b[0;34m=\u001b[0m \u001b[0mGraphEditDistanceNX\u001b[0m\u001b[0;34m(\u001b[0m\u001b[0mnode_cost\u001b[0m\u001b[0;34m=\u001b[0m\u001b[0;34m'euclidean'\u001b[0m\u001b[0;34m,\u001b[0m \u001b[0mn_jobs\u001b[0m\u001b[0;34m=\u001b[0m\u001b[0;36m2\u001b[0m\u001b[0;34m)\u001b[0m\u001b[0;34m\u001b[0m\u001b[0;34m\u001b[0m\u001b[0m\n\u001b[0;32m---> 14\u001b[0;31m \u001b[0mGnx\u001b[0m \u001b[0;34m=\u001b[0m \u001b[0mconvert\u001b[0m\u001b[0;34m(\u001b[0m\u001b[0mG\u001b[0m\u001b[0;34m[\u001b[0m\u001b[0;36m0\u001b[0m\u001b[0;34m]\u001b[0m \u001b[0;34m+\u001b[0m \u001b[0mG\u001b[0m\u001b[0;34m[\u001b[0m\u001b[0;36m8\u001b[0m\u001b[0;34m]\u001b[0m\u001b[0;34m,\u001b[0m \u001b[0mformat_in\u001b[0m\u001b[0;34m=\u001b[0m\u001b[0;34m'cdg'\u001b[0m\u001b[0;34m,\u001b[0m \u001b[0mformat_out\u001b[0m\u001b[0;34m=\u001b[0m\u001b[0;34m'nx'\u001b[0m\u001b[0;34m)\u001b[0m\u001b[0;34m\u001b[0m\u001b[0;34m\u001b[0m\u001b[0m\n\u001b[0m\u001b[1;32m     15\u001b[0m \u001b[0mG_train\u001b[0m\u001b[0;34m,\u001b[0m \u001b[0mG_test\u001b[0m \u001b[0;34m=\u001b[0m \u001b[0mGnx\u001b[0m\u001b[0;34m[\u001b[0m\u001b[0;34m:\u001b[0m\u001b[0;36m50\u001b[0m\u001b[0;34m]\u001b[0m\u001b[0;34m,\u001b[0m \u001b[0mGnx\u001b[0m\u001b[0;34m[\u001b[0m\u001b[0;36m50\u001b[0m\u001b[0;34m:\u001b[0m\u001b[0;34m]\u001b[0m\u001b[0;34m\u001b[0m\u001b[0;34m\u001b[0m\u001b[0m\n\u001b[1;32m     16\u001b[0m \u001b[0;34m\u001b[0m\u001b[0m\n",
      "\u001b[0;32m~/phd/cdg/cdg/graph/conversion.py\u001b[0m in \u001b[0;36mconvert\u001b[0;34m(graphs, format_in, format_out, directed, label_ndim, **kwargs)\u001b[0m\n\u001b[1;32m     56\u001b[0m     \u001b[0;32massert\u001b[0m \u001b[0mformat_in\u001b[0m \u001b[0;32min\u001b[0m \u001b[0mGRAPH_FORMATS_IMPORT\u001b[0m\u001b[0;34m,\u001b[0m \u001b[0;34m'format_in={} is not in {}, '\u001b[0m\u001b[0;34m.\u001b[0m\u001b[0mformat\u001b[0m\u001b[0;34m(\u001b[0m\u001b[0mformat_in\u001b[0m\u001b[0;34m,\u001b[0m \u001b[0mGRAPH_FORMATS_IMPORT\u001b[0m\u001b[0;34m)\u001b[0m\u001b[0;34m\u001b[0m\u001b[0;34m\u001b[0m\u001b[0m\n\u001b[1;32m     57\u001b[0m     \u001b[0;32massert\u001b[0m \u001b[0mformat_out\u001b[0m \u001b[0;32min\u001b[0m \u001b[0mGRAPH_FORMATS_EXPORT\u001b[0m\u001b[0;34m,\u001b[0m \u001b[0;34m'format_out={} is not in {}, '\u001b[0m\u001b[0;34m.\u001b[0m\u001b[0mformat\u001b[0m\u001b[0;34m(\u001b[0m\u001b[0mformat_out\u001b[0m\u001b[0;34m,\u001b[0m \u001b[0mGRAPH_FORMATS_EXPORT\u001b[0m\u001b[0;34m)\u001b[0m\u001b[0;34m\u001b[0m\u001b[0;34m\u001b[0m\u001b[0m\n\u001b[0;32m---> 58\u001b[0;31m     \u001b[0;32massert\u001b[0m \u001b[0mformat_in\u001b[0m \u001b[0;34m==\u001b[0m \u001b[0minfer_format\u001b[0m\u001b[0;34m(\u001b[0m\u001b[0mgraphs\u001b[0m\u001b[0;34m)\u001b[0m\u001b[0;34m,\u001b[0m \u001b[0;34m'provided graphs are not in format format_in.'\u001b[0m\u001b[0;34m\u001b[0m\u001b[0;34m\u001b[0m\u001b[0m\n\u001b[0m\u001b[1;32m     59\u001b[0m \u001b[0;34m\u001b[0m\u001b[0m\n\u001b[1;32m     60\u001b[0m     \u001b[0;32mif\u001b[0m \u001b[0mformat_in\u001b[0m \u001b[0;34m==\u001b[0m \u001b[0mformat_out\u001b[0m\u001b[0;34m:\u001b[0m\u001b[0;34m\u001b[0m\u001b[0;34m\u001b[0m\u001b[0m\n",
      "\u001b[0;32m~/phd/cdg/cdg/graph/conversion.py\u001b[0m in \u001b[0;36minfer_format\u001b[0;34m(graphs)\u001b[0m\n\u001b[1;32m     18\u001b[0m     \u001b[0;34m:\u001b[0m\u001b[0;32mreturn\u001b[0m\u001b[0;34m:\u001b[0m\u001b[0;34m\u001b[0m\u001b[0;34m\u001b[0m\u001b[0m\n\u001b[1;32m     19\u001b[0m     '''\n\u001b[0;32m---> 20\u001b[0;31m     \u001b[0;32mimport\u001b[0m \u001b[0mgrakel\u001b[0m\u001b[0;34m\u001b[0m\u001b[0;34m\u001b[0m\u001b[0m\n\u001b[0m\u001b[1;32m     21\u001b[0m     \u001b[0;32mimport\u001b[0m \u001b[0mnetworkx\u001b[0m \u001b[0;32mas\u001b[0m \u001b[0mnx\u001b[0m\u001b[0;34m\u001b[0m\u001b[0;34m\u001b[0m\u001b[0m\n\u001b[1;32m     22\u001b[0m \u001b[0;34m\u001b[0m\u001b[0m\n",
      "\u001b[0;31mModuleNotFoundError\u001b[0m: No module named 'grakel'"
     ]
    }
   ],
   "source": [
    "# Generate synthetic graphs from a predefined model\n",
    "#   - 500 graphs from class 0\n",
    "#   - 50 graphs from class 8\n",
    "from cdg.graph import DelaunayGraphs, convert\n",
    "no_nodes = 5\n",
    "no_graphs = {0: 500, 8: 50}\n",
    "model = DelaunayGraphs()\n",
    "G = model.get(seed_points=no_nodes, classes=list(no_graphs.keys()),\n",
    "              no_graphs=no_graphs, sigma=.3, include_seed_graph=False)\n",
    "\n",
    "# Convert them\n",
    "from cdg.graph.distance import GraphEditDistanceNX\n",
    "ged = GraphEditDistanceNX(node_cost='euclidean', n_jobs=2)\n",
    "Gnx = convert(G[0] + G[8], format_in='cdg', format_out='nx')\n",
    "G_train, G_test = Gnx[:50], Gnx[50:]\n",
    "\n",
    "from cdg.embedding import MultiDimensionalScaling\n",
    "mds = MultiDimensionalScaling(emb_dim=2, nprot=5)\n",
    "mds.fit(graphs=G_train, dist_fun=ged.get_measure_fun(verbose=True))\n",
    "x = mds.transform(G_test)\n",
    "\n",
    "from cdg.changedetection import GaussianCusum\n",
    "cdt = GaussianCusum(window_size=5, arl=20)\n",
    "cdt.fit(x[:100])\n",
    "y, g = cdt.predict(x, reset=False)\n"
   ]
  },
  {
   "cell_type": "code",
   "execution_count": 3,
   "metadata": {},
   "outputs": [
    {
     "data": {
      "text/plain": [
       "<Figure size 640x480 with 1 Axes>"
      ]
     },
     "metadata": {},
     "output_type": "display_data"
    }
   ],
   "source": [
    "import matplotlib.pyplot as plt\n",
    "plt.plot(g, 'b', label=\"cumulative sum\")\n",
    "plt.plot(g*0. + cdt.threshold, '--k', label=\"threshold\")\n",
    "plt.plot([450]*2, [g.min(), g.max()], '--r', label=\"change\")\n",
    "plt.legend()\n",
    "plt.show()"
   ]
  },
  {
   "cell_type": "markdown",
   "metadata": {},
   "source": [
    "## Change detection \n",
    "\n",
    "Let's generate a sample sequence with a change simulated at time `N_change`"
   ]
  },
  {
   "cell_type": "code",
   "execution_count": 4,
   "metadata": {},
   "outputs": [
    {
     "data": {
      "image/png": "[encoded data removed]",
      "text/plain": [
       "<Figure size 432x288 with 1 Axes>"
      ]
     },
     "metadata": {
      "needs_background": "light"
     },
     "output_type": "display_data"
    }
   ],
   "source": [
    "import numpy as np\n",
    "N = 400\n",
    "N_train = 100\n",
    "N_change = 320\n",
    "alpha = 0.01\n",
    "\n",
    "x = np.random.normal(size=(N, 1))\n",
    "x[N_change:] += 1.\n",
    "\n",
    "import matplotlib.pyplot as plt\n",
    "plt.figure()\n",
    "plt.scatter(np.arange(N), x, c='k', label=\"x(t)\")\n",
    "plt.plot([N_change]*2, [x.min(), x.max()], '--r', label=\"N_change\")\n",
    "plt.show()"
   ]
  },
  {
   "cell_type": "markdown",
   "metadata": {},
   "source": [
    "### Change-detection test\n",
    "\n",
    "Under the assumption that the process is Gaussian and i.i.d. one can use `GaussianCusum`.\n"
   ]
  },
  {
   "cell_type": "code",
   "execution_count": 5,
   "metadata": {},
   "outputs": [],
   "source": [
    "from cdg.changedetection import GaussianCusum\n",
    "cdt = GaussianCusum(arl=round(1./alpha))\n",
    "cdt.fit(x[:N_train])\n",
    "y, g = cdt.predict(x, reset=False)"
   ]
  },
  {
   "cell_type": "markdown",
   "metadata": {},
   "source": [
    "One could also proceed iterative time-step by time-step"
   ]
  },
  {
   "cell_type": "code",
   "execution_count": 6,
   "metadata": {},
   "outputs": [
    {
     "name": "stdout",
     "output_type": "stream",
     "text": [
      "An alarm is raised at time 33\n",
      "An alarm is raised at time 326\n",
      "An alarm is raised at time 354\n",
      "An alarm is raised at time 361\n",
      "An alarm is raised at time 398\n"
     ]
    }
   ],
   "source": [
    "cdt.reset()\n",
    "cdt.fit(x[:N_train])\n",
    "for t in range(N):\n",
    "    alarm, _ = cdt.iterate(x[t:t + 1])\n",
    "    if alarm:\n",
    "        print(\"An alarm is raised at time {}\".format(t))\n",
    "        cdt.reset()"
   ]
  },
  {
   "cell_type": "markdown",
   "metadata": {},
   "source": [
    "One the above assumption is not appropriate, one can:\n",
    "\n",
    "* use a windowing approach with `GaussianCusum(window_size=50)` that exploits the central limit theorem;\n",
    "* use the nonparametric `TwoSidedCusum`."
   ]
  },
  {
   "cell_type": "markdown",
   "metadata": {},
   "source": [
    "\n",
    "### Change-point method\n"
   ]
  },
  {
   "cell_type": "code",
   "execution_count": 7,
   "metadata": {},
   "outputs": [
    {
     "name": "stdout",
     "output_type": "stream",
     "text": [
      "Identified change-point: [320] with p-value: [4.4086956307864966e-13]\n"
     ]
    }
   ],
   "source": [
    "from cdg.changedetection import MuCPM\n",
    "cpm = MuCPM()\n",
    "cpm.predict(x, alpha=alpha, margin=20)\n",
    "print(\"Identified change-point:\", cpm.cps_fwer, 'with p-value:', cpm.pvals_fwer)"
   ]
  },
  {
   "cell_type": "markdown",
   "metadata": {},
   "source": [
    "## Data sets\n",
    "\n",
    "### Load a data set\n"
   ]
  },
  {
   "cell_type": "code",
   "execution_count": 8,
   "metadata": {},
   "outputs": [
    {
     "name": "stdout",
     "output_type": "stream",
     "text": [
      "Data set not there...\n"
     ]
    }
   ],
   "source": [
    "from cdg.graph import DataSet, isdataset\n",
    "path = './dataset/delaunay'\n",
    "if isdataset(path):\n",
    "    dataset = DataSet.load_dataset(path=path, name='MyDataSet')   \n",
    "else:\n",
    "    print('Data set not there...')"
   ]
  },
  {
   "cell_type": "markdown",
   "metadata": {},
   "source": [
    "\n",
    "### Generate Delaunay's triangulation graphs"
   ]
  },
  {
   "cell_type": "code",
   "execution_count": 9,
   "metadata": {},
   "outputs": [
    {
     "name": "stdout",
     "output_type": "stream",
     "text": [
      "cdg.Graph[no_nodes: 7, nf_dim: 2, ef_dim: 0](\n",
      "---Adjacency---\n",
      "[[0. 0. 1. 0. 1. 1. 1.]\n",
      " [0. 0. 1. 1. 1. 0. 1.]\n",
      " [1. 1. 0. 1. 0. 1. 1.]\n",
      " [0. 1. 1. 0. 0. 1. 0.]\n",
      " [1. 1. 0. 0. 0. 0. 1.]\n",
      " [1. 0. 1. 1. 0. 0. 0.]\n",
      " [1. 1. 1. 0. 1. 0. 0.]]\n",
      "---NodeFeatures---\n",
      "[[8.84106585 2.46721861]\n",
      " [1.1429479  5.13683779]\n",
      " [7.65771102 2.30314049]\n",
      " [1.99294489 1.42906562]\n",
      " [6.69154097 9.50241862]\n",
      " [7.91662357 1.26672989]\n",
      " [7.99898016 3.16394143]])\n"
     ]
    }
   ],
   "source": [
    "from cdg.graph import DelaunayGraphs \n",
    "no_nodes = 7\n",
    "no_graphs = 100\n",
    "model = DelaunayGraphs()\n",
    "G = model.get(seed_points=no_nodes, classes=[0, 8], \n",
    "              no_graphs=no_graphs, sigma=.3, include_seed_graph=False) \n",
    "print(G[0][0])"
   ]
  },
  {
   "cell_type": "markdown",
   "metadata": {},
   "source": [
    "\n",
    "### Generate graphs from the stochastic block model"
   ]
  },
  {
   "cell_type": "code",
   "execution_count": 10,
   "metadata": {},
   "outputs": [
    {
     "name": "stdout",
     "output_type": "stream",
     "text": [
      "cdg.Graph[no_nodes: 7, nf_dim: 0, ef_dim: 0](\n",
      "---Adjacency---\n",
      "[[0 0 0 0 0 1 0]\n",
      " [0 0 1 0 1 0 0]\n",
      " [0 1 0 0 0 0 0]\n",
      " [0 0 0 0 0 1 1]\n",
      " [0 1 0 0 0 0 0]\n",
      " [1 0 0 1 0 0 1]\n",
      " [0 0 0 1 0 1 0]])\n"
     ]
    }
   ],
   "source": [
    "from cdg.graph import StochasticBlockModel \n",
    "no_nodes = 7\n",
    "no_graphs = 100\n",
    "model = StochasticBlockModel(\n",
    "            communities=[list(range(no_nodes//2)), list(range(no_nodes//2, no_nodes))],\n",
    "            prob_matrix=[[.8, .2], [.2, .6]])\n",
    "\n",
    "G = model.get(no_graphs)\n",
    "print(G[0])"
   ]
  },
  {
   "cell_type": "markdown",
   "metadata": {},
   "source": [
    "\n",
    "### Generate graphs from the degree-corrected stochastic block model"
   ]
  },
  {
   "cell_type": "code",
   "execution_count": 11,
   "metadata": {},
   "outputs": [
    {
     "name": "stdout",
     "output_type": "stream",
     "text": [
      "cdg.Graph[no_nodes: 7, nf_dim: 0, ef_dim: 1](\n",
      "---Adjacency---\n",
      "[[1 1 0 0 0 0 1]\n",
      " [1 1 1 0 0 0 0]\n",
      " [0 1 1 0 0 0 0]\n",
      " [0 0 0 1 0 0 1]\n",
      " [0 0 0 0 1 1 1]\n",
      " [0 0 0 0 1 1 0]\n",
      " [1 0 0 1 1 0 1]]\n",
      "---EdgeFeatures---\n",
      "[[1 2 0 0 0 0 1]\n",
      " [2 1 1 0 0 0 0]\n",
      " [0 1 1 0 0 0 0]\n",
      " [0 0 0 1 0 0 1]\n",
      " [0 0 0 0 1 1 1]\n",
      " [0 0 0 0 1 1 0]\n",
      " [1 0 0 1 1 0 1]])\n"
     ]
    }
   ],
   "source": [
    "from cdg.graph import DegreeCorrectedStochasticBlockModel\n",
    "no_nodes = 7\n",
    "no_graphs = 100\n",
    "model = DegreeCorrectedStochasticBlockModel(\n",
    "    communities=[list(range(no_nodes // 2)), list(range(no_nodes // 2, no_nodes))],\n",
    "    prob_matrix=[[.8, .2], [.2, .6]],\n",
    "    delta=[0.1, 0.02])\n",
    "\n",
    "G = model.get(no_graphs)\n",
    "print(G[0])"
   ]
  },
  {
   "cell_type": "markdown",
   "metadata": {},
   "source": [
    "### Store a data set"
   ]
  },
  {
   "cell_type": "code",
   "execution_count": 12,
   "metadata": {},
   "outputs": [
    {
     "name": "stdout",
     "output_type": "stream",
     "text": [
      "Is data set there? True\n"
     ]
    }
   ],
   "source": [
    "# The path needs to be present\n",
    "path = './data/my-del'\n",
    "# Create graphs\n",
    "no_nodes = 7\n",
    "no_graphs = 100\n",
    "model = DelaunayGraphs()\n",
    "G = model.get(seed_points=no_nodes, classes=[0, 8], \n",
    "              no_graphs=no_graphs, sigma=.3, include_seed_graph=False) \n",
    "labels = np.array([0] * no_graphs + [8] * no_graphs)\n",
    "# Create data set and store it\n",
    "dataset = DataSet(graphs=G[0]+G[8], labels=labels, name='my-delaunay', store=path)\n",
    "\n",
    "print(\"Is data set there?\", isdataset(path))"
   ]
  },
  {
   "cell_type": "markdown",
   "metadata": {},
   "source": [
    "\n",
    "### Dynamic model"
   ]
  },
  {
   "cell_type": "code",
   "execution_count": 13,
   "metadata": {},
   "outputs": [],
   "source": [
    "from cdg.graph import StochasticBlockModel, DynamicsGenerator\n",
    "no_nodes = 8\n",
    "no_graphs = 100\n",
    "alpha = .5\n",
    "\n",
    "base_model = StochasticBlockModel(communities=[list(range(no_nodes))], prob_matrix=[[.3]])\n",
    "#getter = lambda : base_model.get(no_graphs=1)[0]\n",
    "#dyn_model = DynamicsGenerator(alpha=alpha, getter=getter)\n",
    "#G = dyn_model.get(no_graphs=no_graphs)"
   ]
  },
  {
   "cell_type": "markdown",
   "metadata": {},
   "source": [
    "\n",
    "## Simulations\n",
    "\n",
    "### Run a simulation of CPM\n",
    "Collect a data set\n"
   ]
  },
  {
   "cell_type": "code",
   "execution_count": 14,
   "metadata": {},
   "outputs": [
    {
     "name": "stderr",
     "output_type": "stream",
     "text": [
      "prot. sel. annealing: 100%|██████████| 3/3 [00:00<00:00, 336.12it/s]\n",
      "[Parallel(n_jobs=1)]: Using backend SequentialBackend with 1 concurrent workers.\n",
      "[Parallel(n_jobs=1)]: Done   1 out of   1 | elapsed:    0.5s finished\n",
      "prot. sel. annealing: 100%|██████████| 3/3 [00:00<00:00, 343.82it/s]\n",
      "[Parallel(n_jobs=1)]: Using backend SequentialBackend with 1 concurrent workers.\n",
      "[Parallel(n_jobs=1)]: Done   1 out of   1 | elapsed:    0.5s finished\n",
      "prot. sel. annealing: 100%|██████████| 3/3 [00:00<00:00, 378.78it/s]\n",
      "[Parallel(n_jobs=1)]: Using backend SequentialBackend with 1 concurrent workers.\n",
      "[Parallel(n_jobs=1)]: Done   1 out of   1 | elapsed:    0.5s finished\n",
      "prot. sel. annealing: 100%|██████████| 3/3 [00:00<00:00, 250.84it/s]\n",
      "[Parallel(n_jobs=1)]: Using backend SequentialBackend with 1 concurrent workers.\n",
      "[Parallel(n_jobs=1)]: Done   1 out of   1 | elapsed:    0.5s finished\n",
      "prot. sel. annealing: 100%|██████████| 3/3 [00:00<00:00, 456.90it/s]\n",
      "[Parallel(n_jobs=1)]: Using backend SequentialBackend with 1 concurrent workers.\n",
      "[Parallel(n_jobs=1)]: Done   1 out of   1 | elapsed:    0.5s finished\n",
      "prot. sel. annealing: 100%|██████████| 3/3 [00:00<00:00, 290.10it/s]\n",
      "[Parallel(n_jobs=1)]: Using backend SequentialBackend with 1 concurrent workers.\n",
      "[Parallel(n_jobs=1)]: Done   1 out of   1 | elapsed:    0.5s finished\n",
      "prot. sel. annealing: 100%|██████████| 3/3 [00:00<00:00, 239.75it/s]\n",
      "[Parallel(n_jobs=1)]: Using backend SequentialBackend with 1 concurrent workers.\n",
      "[Parallel(n_jobs=1)]: Done   1 out of   1 | elapsed:    0.5s finished\n",
      "prot. sel. annealing: 100%|██████████| 3/3 [00:00<00:00, 283.60it/s]\n",
      "[Parallel(n_jobs=1)]: Using backend SequentialBackend with 1 concurrent workers.\n",
      "[Parallel(n_jobs=1)]: Done   1 out of   1 | elapsed:    0.5s finished\n",
      "prot. sel. annealing: 100%|██████████| 3/3 [00:00<00:00, 305.83it/s]\n",
      "[Parallel(n_jobs=1)]: Using backend SequentialBackend with 1 concurrent workers.\n",
      "[Parallel(n_jobs=1)]: Done   1 out of   1 | elapsed:    0.5s finished\n",
      "prot. sel. annealing: 100%|██████████| 3/3 [00:00<00:00, 331.74it/s]\n",
      "[Parallel(n_jobs=1)]: Using backend SequentialBackend with 1 concurrent workers.\n",
      "[Parallel(n_jobs=1)]: Done   1 out of   1 | elapsed:    0.5s finished\n"
     ]
    }
   ],
   "source": [
    "from cdg.graph import StochasticBlockModel, DataSet, FrobeniusGraphDistance\n",
    "# Generate graphs\n",
    "no_nodes = 7\n",
    "no_graphs_class_0, no_graphs_class_1 = 100, 50\n",
    "model0 = StochasticBlockModel(communities=[list(range(no_nodes))],\n",
    "                              prob_matrix=[[.2]])\n",
    "model1 = StochasticBlockModel(communities=[list(range(no_nodes))],\n",
    "                              prob_matrix=[[.3]])\n",
    "graphs  = model0.get(no_graphs=no_graphs_class_0)\n",
    "graphs += model1.get(no_graphs=no_graphs_class_1)\n",
    "y = [0] * no_graphs_class_0 + [1] * no_graphs_class_1\n",
    "# Choose a distance\n",
    "frob_distance = FrobeniusGraphDistance().get_measure_fun()\n",
    "# Create an instance of cdg.DataSet\n",
    "dataset = DataSet(graphs=graphs, labels=y, name='SBM_example',\n",
    "                  distance_measure=frob_distance,\n",
    "                  store=None, class_to_label=None, kernel_measure=None)\n",
    "\n",
    "# Setup the simulation\n",
    "from cdg import SimulationCPM, ParametersCPM\n",
    "from cdg.changedetection import EnergyCPM\n",
    "from cdg.embedding import MultiDimensionalScaling\n",
    "# define the parameters of the simution\n",
    "pars = ParametersCPM()\n",
    "pars.classes = [0, 1]\n",
    "pars.subseq_lengths_t = [no_graphs_class_0, no_graphs_class_1]\n",
    "pars.significance_level = 0.01\n",
    "pars.embedding_dimension = 3\n",
    "# instance of an embedding class extending cdg.Embedding\n",
    "pars.embedding_method = MultiDimensionalScaling(emb_dim=pars.embedding_dimension)\n",
    "# freeze the parameters to make sure that nothing will change from now on.\n",
    "pars.freeze()\n",
    "# crate instance of a CPM\n",
    "cpm = EnergyCPM(repetitions=499)\n",
    "# crate the environment for assessing the performance of a CPM.\n",
    "simulation = SimulationCPM(cpm=cpm)\n",
    "simulation.set(parameters=pars, dataset=dataset, no_simulations=10, folder='./my_experiment')\n",
    "simulation.run()"
   ]
  }
 ],
 "metadata": {
  "kernelspec": {
   "display_name": "Python 3",
   "language": "python",
   "name": "python3"
  },
  "language_info": {
   "codemirror_mode": {
    "name": "ipython",
    "version": 3
   },
   "file_extension": ".py",
   "mimetype": "text/x-python",
   "name": "python",
   "nbconvert_exporter": "python",
   "pygments_lexer": "ipython3",
   "version": "3.8.3"
  }
 },
 "nbformat": 4,
 "nbformat_minor": 2
}
